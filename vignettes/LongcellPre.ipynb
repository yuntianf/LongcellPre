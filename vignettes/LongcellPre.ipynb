{
 "cells": [
  {
   "cell_type": "markdown",
   "id": "8ec323e7",
   "metadata": {},
   "source": [
    "### Overview"
   ]
  },
  {
   "cell_type": "markdown",
   "id": "5b10c40c",
   "metadata": {},
   "source": [
    "This is a demo to introduce the step-by-step analysis of LongcellPre, which aims for users who want to use intermediate results from LongcellPre or understand the details about this tool."
   ]
  },
  {
   "cell_type": "markdown",
   "id": "e4e47e06",
   "metadata": {},
   "source": [
    "For users who want to directly apply this tool to the data to do preprocessing, you can simply run:"
   ]
  },
  {
   "cell_type": "code",
   "execution_count": null,
   "id": "01c716e7",
   "metadata": {},
   "outputs": [],
   "source": [
    "library(future)\n",
    "library(Longcellsrc)\n",
    "library(LongcellPre)\n",
    "\n",
    "# update your input path here\n",
    "fastq = \"path of your input fastq or fq.gz\"\n",
    "barcodes = \"path of your input cell barcode whitelist\"\n",
    "gtf_path = \"path of your gtf annotation\"\n",
    "genome_path = \"path of your genome annotation\"\n",
    "minimap_bed_path = \"path of your bed annotation for minimap2, can be generated from gtf\" //unnecessary\n",
    "genome_name = \"the genome name used for mapping, ex. hg38\"\n",
    "toolkit = your 10X sequencing toolkit\n",
    "work_dir = \"The output directory\"\n",
    "\n",
    "# specify the path for those tools\n",
    "samtools = \"samtools\"\n",
    "minimap2 = \"minimap2\"\n",
    "bedtools = \"bedtools\"\n",
    "\n",
    "RunLongcellPre(fastq = fastq,barcode_path = barcodes,toolkit = toolkit,\n",
    "               genome_path = genome_path,genome_name = genome_name,\n",
    "               gtf_path = gtf_path,minimap_bed_path = minimap_bed_path,work_dir = work_dir,\n",
    "               samtools = samtools, minimap2 = minimap2,bedtools = bedtools,cores = 4, strategy=\"multicore\")"
   ]
  },
  {
   "cell_type": "markdown",
   "id": "6dc9bf15",
   "metadata": {},
   "source": [
    "### Step-by-step demo for LongcellPre"
   ]
  },
  {
   "cell_type": "markdown",
   "id": "b7ee11ec",
   "metadata": {},
   "source": [
    "We provide a demo data with 200 cells and 3 genes. This data is a subset of the colorectal metastasis sample we used in the paper. The data and corresponding annotations can be downloaded from: \n",
    "https://www.dropbox.com/scl/fo/21tw8rrkaancani0fzq3t/AKNHUk06onR2c2dYuB4wXWY?rlkey=1zikug28qr9ziw2cdsgelrm9p&st=ypm9m00i&dl=0"
   ]
  },
  {
   "cell_type": "markdown",
   "id": "c5fc4a86",
   "metadata": {},
   "source": [
    "#### load necessary libraries and initiation"
   ]
  },
  {
   "cell_type": "code",
   "execution_count": 1,
   "id": "9d5234af",
   "metadata": {},
   "outputs": [],
   "source": [
    "library(future)\n",
    "library(Longcellsrc)\n",
    "library(LongcellPre)"
   ]
  },
  {
   "cell_type": "code",
   "execution_count": 4,
   "id": "13b2300c",
   "metadata": {},
   "outputs": [],
   "source": [
    "work_dir = \"./demo_out\"\n",
    "init(work_dir)"
   ]
  },
  {
   "cell_type": "markdown",
   "id": "8629005f",
   "metadata": {},
   "source": [
    "#### build annotation"
   ]
  },
  {
   "cell_type": "markdown",
   "id": "ad322208",
   "metadata": {},
   "source": [
    "The annotation used by LongcellPre can be generated from the isoform annotation in gtf format, for common samples like human and mouse, you can download the gtf reference via gencode: https://www.gencodegenes.org/. Here we would use the subset gtf for our data."
   ]
  },
  {
   "cell_type": "code",
   "execution_count": 2,
   "id": "ffc4a805",
   "metadata": {},
   "outputs": [],
   "source": [
    "gtf_path = \"./demo/gencode.v39.sub.gtf\""
   ]
  },
  {
   "cell_type": "code",
   "execution_count": 5,
   "id": "7601e361",
   "metadata": {},
   "outputs": [
    {
     "name": "stdout",
     "output_type": "stream",
     "text": [
      "[1] \"Start to build exon annotation based on the gtf file.\"\n"
     ]
    },
    {
     "name": "stderr",
     "output_type": "stream",
     "text": [
      "Import genomic features from the file as a GRanges object ... \n",
      "OK\n",
      "\n",
      "Prepare the 'metadata' data frame ... \n",
      "OK\n",
      "\n",
      "Make the TxDb object ... \n",
      "Warning message in .get_cds_IDX(mcols0$type, mcols0$phase):\n",
      "“The \"phase\" metadata column contains non-NA values for features of type\n",
      "  stop_codon. This information was ignored.”\n",
      "OK\n",
      "\n"
     ]
    }
   ],
   "source": [
    "refer = annotation(gtf_path = gtf_path, work_dir = work_dir ,overwrite = FALSE)"
   ]
  },
  {
   "cell_type": "markdown",
   "id": "b9e69740",
   "metadata": {},
   "source": [
    "The `annotation()` function would generate two tables. The first one record the location for the split non-overlapping exons, and the second one records the location for each annotated exon."
   ]
  },
  {
   "cell_type": "code",
   "execution_count": 6,
   "id": "f193856a",
   "metadata": {},
   "outputs": [],
   "source": [
    "gene_bed = refer[[1]]\n",
    "exon_gtf = refer[[2]]"
   ]
  },
  {
   "cell_type": "code",
   "execution_count": 7,
   "id": "9943a9bf",
   "metadata": {},
   "outputs": [
    {
     "data": {
      "text/html": [
       "<table class=\"dataframe\">\n",
       "<caption>A data.frame: 6 × 7</caption>\n",
       "<thead>\n",
       "\t<tr><th></th><th scope=col>chr</th><th scope=col>start</th><th scope=col>end</th><th scope=col>width</th><th scope=col>strand</th><th scope=col>gene</th><th scope=col>id</th></tr>\n",
       "\t<tr><th></th><th scope=col>&lt;fct&gt;</th><th scope=col>&lt;int&gt;</th><th scope=col>&lt;int&gt;</th><th scope=col>&lt;int&gt;</th><th scope=col>&lt;fct&gt;</th><th scope=col>&lt;chr&gt;</th><th scope=col>&lt;chr&gt;</th></tr>\n",
       "</thead>\n",
       "<tbody>\n",
       "\t<tr><th scope=row>1</th><td>chr8</td><td>85214048</td><td>85214076</td><td> 29</td><td>-</td><td>ENSG00000176731</td><td>29</td></tr>\n",
       "\t<tr><th scope=row>2</th><td>chr8</td><td>85214077</td><td>85214486</td><td>410</td><td>-</td><td>ENSG00000176731</td><td>28</td></tr>\n",
       "\t<tr><th scope=row>3</th><td>chr8</td><td>85214487</td><td>85214501</td><td> 15</td><td>-</td><td>ENSG00000176731</td><td>27</td></tr>\n",
       "\t<tr><th scope=row>4</th><td>chr8</td><td>85214502</td><td>85214502</td><td>  1</td><td>-</td><td>ENSG00000176731</td><td>26</td></tr>\n",
       "\t<tr><th scope=row>5</th><td>chr8</td><td>85214503</td><td>85214555</td><td> 53</td><td>-</td><td>ENSG00000176731</td><td>25</td></tr>\n",
       "\t<tr><th scope=row>6</th><td>chr8</td><td>85214556</td><td>85214631</td><td> 76</td><td>-</td><td>ENSG00000176731</td><td>24</td></tr>\n",
       "</tbody>\n",
       "</table>\n"
      ],
      "text/latex": [
       "A data.frame: 6 × 7\n",
       "\\begin{tabular}{r|lllllll}\n",
       "  & chr & start & end & width & strand & gene & id\\\\\n",
       "  & <fct> & <int> & <int> & <int> & <fct> & <chr> & <chr>\\\\\n",
       "\\hline\n",
       "\t1 & chr8 & 85214048 & 85214076 &  29 & - & ENSG00000176731 & 29\\\\\n",
       "\t2 & chr8 & 85214077 & 85214486 & 410 & - & ENSG00000176731 & 28\\\\\n",
       "\t3 & chr8 & 85214487 & 85214501 &  15 & - & ENSG00000176731 & 27\\\\\n",
       "\t4 & chr8 & 85214502 & 85214502 &   1 & - & ENSG00000176731 & 26\\\\\n",
       "\t5 & chr8 & 85214503 & 85214555 &  53 & - & ENSG00000176731 & 25\\\\\n",
       "\t6 & chr8 & 85214556 & 85214631 &  76 & - & ENSG00000176731 & 24\\\\\n",
       "\\end{tabular}\n"
      ],
      "text/markdown": [
       "\n",
       "A data.frame: 6 × 7\n",
       "\n",
       "| <!--/--> | chr &lt;fct&gt; | start &lt;int&gt; | end &lt;int&gt; | width &lt;int&gt; | strand &lt;fct&gt; | gene &lt;chr&gt; | id &lt;chr&gt; |\n",
       "|---|---|---|---|---|---|---|---|\n",
       "| 1 | chr8 | 85214048 | 85214076 |  29 | - | ENSG00000176731 | 29 |\n",
       "| 2 | chr8 | 85214077 | 85214486 | 410 | - | ENSG00000176731 | 28 |\n",
       "| 3 | chr8 | 85214487 | 85214501 |  15 | - | ENSG00000176731 | 27 |\n",
       "| 4 | chr8 | 85214502 | 85214502 |   1 | - | ENSG00000176731 | 26 |\n",
       "| 5 | chr8 | 85214503 | 85214555 |  53 | - | ENSG00000176731 | 25 |\n",
       "| 6 | chr8 | 85214556 | 85214631 |  76 | - | ENSG00000176731 | 24 |\n",
       "\n"
      ],
      "text/plain": [
       "  chr  start    end      width strand gene            id\n",
       "1 chr8 85214048 85214076  29   -      ENSG00000176731 29\n",
       "2 chr8 85214077 85214486 410   -      ENSG00000176731 28\n",
       "3 chr8 85214487 85214501  15   -      ENSG00000176731 27\n",
       "4 chr8 85214502 85214502   1   -      ENSG00000176731 26\n",
       "5 chr8 85214503 85214555  53   -      ENSG00000176731 25\n",
       "6 chr8 85214556 85214631  76   -      ENSG00000176731 24"
      ]
     },
     "metadata": {},
     "output_type": "display_data"
    }
   ],
   "source": [
    "head(gene_bed)"
   ]
  },
  {
   "cell_type": "code",
   "execution_count": 8,
   "id": "8eda4429",
   "metadata": {},
   "outputs": [
    {
     "data": {
      "text/html": [
       "<table class=\"dataframe\">\n",
       "<caption>A tibble: 6 × 5</caption>\n",
       "<thead>\n",
       "\t<tr><th scope=col>start</th><th scope=col>end</th><th scope=col>gene</th><th scope=col>transname</th><th scope=col>exon_id</th></tr>\n",
       "\t<tr><th scope=col>&lt;int&gt;</th><th scope=col>&lt;int&gt;</th><th scope=col>&lt;chr&gt;</th><th scope=col>&lt;chr&gt;</th><th scope=col>&lt;chr&gt;</th></tr>\n",
       "</thead>\n",
       "<tbody>\n",
       "\t<tr><td>85214048</td><td>85214631</td><td>ENSG00000176731</td><td>ENST00000619594.5</td><td>ENSE00003752010.2</td></tr>\n",
       "\t<tr><td>85214077</td><td>85214631</td><td>ENSG00000176731</td><td>ENST00000614462.4</td><td>ENSE00003742708.1</td></tr>\n",
       "\t<tr><td>85214487</td><td>85214631</td><td>ENSG00000176731</td><td>ENST00000612977.4</td><td>ENSE00003718609.1</td></tr>\n",
       "\t<tr><td>85214502</td><td>85214631</td><td>ENSG00000176731</td><td>ENST00000612809.4</td><td>ENSE00003715535.1</td></tr>\n",
       "\t<tr><td>85214502</td><td>85214631</td><td>ENSG00000176731</td><td>ENST00000545322.5</td><td>ENSE00003715535.1</td></tr>\n",
       "\t<tr><td>85214502</td><td>85214631</td><td>ENSG00000176731</td><td>ENST00000615071.1</td><td>ENSE00003750870.1</td></tr>\n",
       "</tbody>\n",
       "</table>\n"
      ],
      "text/latex": [
       "A tibble: 6 × 5\n",
       "\\begin{tabular}{lllll}\n",
       " start & end & gene & transname & exon\\_id\\\\\n",
       " <int> & <int> & <chr> & <chr> & <chr>\\\\\n",
       "\\hline\n",
       "\t 85214048 & 85214631 & ENSG00000176731 & ENST00000619594.5 & ENSE00003752010.2\\\\\n",
       "\t 85214077 & 85214631 & ENSG00000176731 & ENST00000614462.4 & ENSE00003742708.1\\\\\n",
       "\t 85214487 & 85214631 & ENSG00000176731 & ENST00000612977.4 & ENSE00003718609.1\\\\\n",
       "\t 85214502 & 85214631 & ENSG00000176731 & ENST00000612809.4 & ENSE00003715535.1\\\\\n",
       "\t 85214502 & 85214631 & ENSG00000176731 & ENST00000545322.5 & ENSE00003715535.1\\\\\n",
       "\t 85214502 & 85214631 & ENSG00000176731 & ENST00000615071.1 & ENSE00003750870.1\\\\\n",
       "\\end{tabular}\n"
      ],
      "text/markdown": [
       "\n",
       "A tibble: 6 × 5\n",
       "\n",
       "| start &lt;int&gt; | end &lt;int&gt; | gene &lt;chr&gt; | transname &lt;chr&gt; | exon_id &lt;chr&gt; |\n",
       "|---|---|---|---|---|\n",
       "| 85214048 | 85214631 | ENSG00000176731 | ENST00000619594.5 | ENSE00003752010.2 |\n",
       "| 85214077 | 85214631 | ENSG00000176731 | ENST00000614462.4 | ENSE00003742708.1 |\n",
       "| 85214487 | 85214631 | ENSG00000176731 | ENST00000612977.4 | ENSE00003718609.1 |\n",
       "| 85214502 | 85214631 | ENSG00000176731 | ENST00000612809.4 | ENSE00003715535.1 |\n",
       "| 85214502 | 85214631 | ENSG00000176731 | ENST00000545322.5 | ENSE00003715535.1 |\n",
       "| 85214502 | 85214631 | ENSG00000176731 | ENST00000615071.1 | ENSE00003750870.1 |\n",
       "\n"
      ],
      "text/plain": [
       "  start    end      gene            transname         exon_id          \n",
       "1 85214048 85214631 ENSG00000176731 ENST00000619594.5 ENSE00003752010.2\n",
       "2 85214077 85214631 ENSG00000176731 ENST00000614462.4 ENSE00003742708.1\n",
       "3 85214487 85214631 ENSG00000176731 ENST00000612977.4 ENSE00003718609.1\n",
       "4 85214502 85214631 ENSG00000176731 ENST00000612809.4 ENSE00003715535.1\n",
       "5 85214502 85214631 ENSG00000176731 ENST00000545322.5 ENSE00003715535.1\n",
       "6 85214502 85214631 ENSG00000176731 ENST00000615071.1 ENSE00003750870.1"
      ]
     },
     "metadata": {},
     "output_type": "display_data"
    }
   ],
   "source": [
    "head(exon_gtf)"
   ]
  },
  {
   "cell_type": "markdown",
   "id": "6ad02193",
   "metadata": {},
   "source": [
    "The first table would be used to guide searching the reads for each gene in the bam file, which is necessary. The second one is used as the canonical isoform annotation and is only necessary when you want to map your reads to the canonical isoforms to get the cell by isoform matrix. If this table is not provided, isoform can also be extracted but stored as a string of splicing sites."
   ]
  },
  {
   "cell_type": "markdown",
   "id": "89aa8de6",
   "metadata": {},
   "source": [
    "When there is no gtf file as the isoform anotation for the sample,the `annotation()` function can accept a gene bed file to indicate the location of targeted genes. LongcellPre will search reads for targeted genes based on the bed."
   ]
  },
  {
   "cell_type": "markdown",
   "id": "252b75b5",
   "metadata": {},
   "source": [
    "#### cell barcode match and reads extraction"
   ]
  },
  {
   "cell_type": "markdown",
   "id": "1558792c",
   "metadata": {},
   "source": [
    "This part can be achieve by the function `reads_extract_bc()`. This function contains three main steps:\n",
    "\n",
    "(1) Trim the adapter sequence and identify the cell barcode and UMI for each read.\n",
    "\n",
    "(2) Map the trimmed fastq file to the reference genome to get the bam file. Common reference genome can be downloaded from https://www.10xgenomics.com/cn/support/software/cell-ranger/downloads\n",
    "Here we would use the subset genome for convenience.\n",
    "\n",
    "(3) Extract the isoform information for each read. The read extraction would be guided from the `gene_bed` annotation output from `annotation`. The necessary information in the `gene_bed` here is the location of the gene and also its strand information. If you are only interested in serveral target genes, you could filter out other genes in the `gene_bed`, then reads aligned to other genes won't be searched."
   ]
  },
  {
   "cell_type": "code",
   "execution_count": 10,
   "id": "526ef313",
   "metadata": {},
   "outputs": [],
   "source": [
    "fastq = \"./demo/example.fq.gz\"\n",
    "barcodes = \"./demo/barcodes.txt\"\n",
    "genome_path = \"./demo/genome.fa\"\n",
    "\n",
    "# Bed annotation generated from gtf can help minimap2 map reads at splicing junctions,\n",
    "# this bed can be accepted by the \"minimap_bed_path\" parameter. In this demo we ignore\n",
    "# this input.\n",
    "# minimap_bed_path = \"The path of bed annotation generated from gtf \"\n",
    "genome_name = \"hg38\"\n",
    "protocol = \"10X\"\n",
    "toolkit = 5\n",
    "\n",
    "# specify the path for those tools\n",
    "samtools = \"samtools\"\n",
    "minimap2 = \"minimap2\"\n",
    "bedtools = \"bedtools\""
   ]
  },
  {
   "cell_type": "code",
   "execution_count": 35,
   "id": "90481980",
   "metadata": {},
   "outputs": [
    {
     "name": "stdout",
     "output_type": "stream",
     "text": [
      "Start to do barcode match:In total 162206 reads out of 196661 reads are identified with a valid adapter.\n",
      "Within them, 161921 reads are identified with a valid tag region.\n",
      "121120  out of  161921 reads are identified with a vaild cell barcode.\n",
      "After filtering,  120333  reads with barcodes are preserved, with mean edit distance as  0.4166771 .\n",
      "Barcode match took 2.42 mins\n",
      " \n",
      "  Elapsed_Time_sec Total_RAM_Used_MiB Peak_RAM_Used_MiB\n",
      "1          138.866                9.7             103.5\n",
      "Start to map polished fastq to genome:[1] \"The command for mapping is:\"\n",
      "[1] \"minimap2 -ax splice -uf --sam-hit-only -t 1 ./demo/genome.fa ./demo_out/polish.fq.gz | samtools view -bS -@ 1 - | samtools sort - -@ 1 -o ./demo_out/bam/polish.bam && samtools index ./demo_out/bam/polish.bam\"\n",
      "Start to extract isoforms:"
     ]
    },
    {
     "name": "stderr",
     "output_type": "stream",
     "text": [
      "Warning message in inner_join(bc, reads, by = c(name = \"qname\")):\n",
      "“\u001b[1m\u001b[22mDetected an unexpected many-to-many relationship between `x` and `y`.\n",
      "\u001b[36mℹ\u001b[39m Row 6035 of `x` matches multiple rows in `y`.\n",
      "\u001b[36mℹ\u001b[39m Row 62630 of `y` matches multiple rows in `x`.\n",
      "\u001b[36mℹ\u001b[39m If a many-to-many relationship is expected, set `relationship = \"many-to-many\"` to silence this warning.”\n"
     ]
    },
    {
     "name": "stdout",
     "output_type": "stream",
     "text": [
      "Isoform extraction took 41.28 secs\n",
      " \n",
      "  Elapsed_Time_sec Total_RAM_Used_MiB Peak_RAM_Used_MiB\n",
      "1            37.62               15.1              85.7\n"
     ]
    }
   ],
   "source": [
    "plan(strategy = \"multicore\",workers = 4)\n",
    "reads_bc = reads_extract_bc(fastq_path = fastq,barcode_path = barcodes,gene_bed= gene_bed,\n",
    "                           genome_path = genome_path,genome_name = genome_name,\n",
    "                           toolkit = toolkit,protocol = protocol, work_dir = work_dir,\n",
    "                           minimap2 = minimap2, samtools = samtools, bedtools = bedtools)\n",
    "bc = reads_bc[[1]]\n",
    "qual = reads_bc[[2]]"
   ]
  },
  {
   "cell_type": "markdown",
   "id": "13c4eda0",
   "metadata": {},
   "source": [
    "This function will return two dataframes, the first one record the cell barcode, UMI, isoform and polyA existence information for each read, while the second one records the distribution of Needleman score between the adapter aside the confidently identified cell barcode (edit distance = 0) and its original sequence. The second table is used to evaluate the data quality and be the guidance to help filter scattered UMI clusters in the UMI deduplication step."
   ]
  },
  {
   "cell_type": "markdown",
   "id": "5c8af381",
   "metadata": {},
   "source": [
    "Those returns would also be saved into files along with the bam file in the output directory."
   ]
  },
  {
   "cell_type": "markdown",
   "id": "1747b498",
   "metadata": {},
   "source": [
    "#### UMI deduplication and isoform correction"
   ]
  },
  {
   "cell_type": "markdown",
   "id": "c9479ea8",
   "metadata": {},
   "source": [
    "This part can be achieve by the function `umi_count_corres()`. This function contains three main steps:\n",
    "\n",
    "(1) Cluster reads with the same or similar UMI for each cell into group.\n",
    "\n",
    "(2) Correct the wrong mapping and trunction for each UMI cluster to get polished isoform representation\n",
    "\n",
    "(3) If given the canonical isoform annotation (the `exon_gtf` from the annotation step),this function would try to map each read to a canonical isoform and build a cell-by-isoform matrix."
   ]
  },
  {
   "cell_type": "code",
   "execution_count": 34,
   "id": "de70e0e8",
   "metadata": {},
   "outputs": [
    {
     "name": "stdout",
     "output_type": "stream",
     "text": [
      "Start to do UMI deduplication:UMI deduplication took 3.22 mins\n",
      " \n",
      "  Elapsed_Time_sec Total_RAM_Used_MiB Peak_RAM_Used_MiB\n",
      "1          189.633                0.3              18.3\n",
      "Start to do isoform alignment:Isoform alignment took 2.11 mins\n",
      " \n",
      "  Elapsed_Time_sec Total_RAM_Used_MiB Peak_RAM_Used_MiB\n",
      "1          123.868                0.1              28.5\n"
     ]
    },
    {
     "data": {
      "text/html": [
       "0"
      ],
      "text/latex": [
       "0"
      ],
      "text/markdown": [
       "0"
      ],
      "text/plain": [
       "[1] 0"
      ]
     },
     "metadata": {},
     "output_type": "display_data"
    }
   ],
   "source": [
    "plan(strategy = \"multicore\",workers = 4)\n",
    "umi_count_corres(data = bc,qual = qual,file.path(work_dir,\"out\"),\n",
    "                 gene_bed = gene_bed,gtf = exon_gtf)"
   ]
  },
  {
   "cell_type": "markdown",
   "id": "7b13bff3",
   "metadata": {},
   "source": [
    "This function has no returns but it would output the single cell isoform quantification into the output folder."
   ]
  },
  {
   "cell_type": "code",
   "execution_count": null,
   "id": "edbf38e6",
   "metadata": {},
   "outputs": [],
   "source": []
  }
 ],
 "metadata": {
  "kernelspec": {
   "display_name": "R 4.1",
   "language": "R",
   "name": "ir41"
  },
  "language_info": {
   "codemirror_mode": "r",
   "file_extension": ".r",
   "mimetype": "text/x-r-source",
   "name": "R",
   "pygments_lexer": "r",
   "version": "4.1.3"
  },
  "toc": {
   "base_numbering": 1,
   "nav_menu": {},
   "number_sections": true,
   "sideBar": true,
   "skip_h1_title": false,
   "title_cell": "Table of Contents",
   "title_sidebar": "Contents",
   "toc_cell": false,
   "toc_position": {},
   "toc_section_display": true,
   "toc_window_display": false
  }
 },
 "nbformat": 4,
 "nbformat_minor": 5
}
