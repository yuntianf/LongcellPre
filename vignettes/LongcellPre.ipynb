{
 "cells": [
  {
   "cell_type": "markdown",
   "id": "8ec323e7",
   "metadata": {},
   "source": [
    "### Overview"
   ]
  },
  {
   "cell_type": "markdown",
   "id": "5b10c40c",
   "metadata": {},
   "source": [
    "This is a demo to introduce the step-by-step analysis of LongcellPre, which aims for For users who want to use intermediate results from LongcellPre or understand the details about this tool."
   ]
  },
  {
   "cell_type": "markdown",
   "id": "e4e47e06",
   "metadata": {},
   "source": [
    "For users who want to directly apply this tool to the data to do preprocessing, you can simply run:"
   ]
  },
  {
   "cell_type": "code",
   "execution_count": null,
   "id": "01c716e7",
   "metadata": {},
   "outputs": [],
   "source": [
    "library(future)\n",
    "library(Longcellsrc)\n",
    "library(LongcellPre)\n",
    "\n",
    "# update your input path here\n",
    "fastq = \"path of your input fastq or fq.gz\"\n",
    "barcodes = \"path of your input cell barcode whitelist\"\n",
    "gtf_path = \"path of your gtf annotation\"\n",
    "genome_path = \"path of your genome annotation\"\n",
    "minimap_bed_path = \"path of your bed annotation for minimap2, can be generated from gtf\" //unnecessary\n",
    "genome_name = \"the genome name used for mapping, ex. hg38\"\n",
    "toolkit = your 10X sequencing toolkit\n",
    "work_dir = \"The output directory\"\n",
    "\n",
    "# specify the path for those tools\n",
    "samtools = \"samtools\"\n",
    "minimap2 = \"minimap2\"\n",
    "bedtools = \"bedtools\"\n",
    "\n",
    "RunLongcellPre(fastq = fastq,barcode_path = barcodes,toolkit = toolkit,\n",
    "               genome_path = genome_path,genome_name = genome_name,\n",
    "               gtf_path = gtf_path,minimap_bed_path = minimap_bed_path,work_dir = work_dir,\n",
    "               samtools = samtools, minimap2 = minimap2,bedtools = bedtools,cores = 4, strategy=\"multicore\")"
   ]
  },
  {
   "cell_type": "markdown",
   "id": "6dc9bf15",
   "metadata": {},
   "source": [
    "### Step-by-step demo for LongcellPre"
   ]
  },
  {
   "cell_type": "markdown",
   "id": "c5fc4a86",
   "metadata": {},
   "source": [
    "#### load necessary libraries and initiation"
   ]
  },
  {
   "cell_type": "code",
   "execution_count": 2,
   "id": "9d5234af",
   "metadata": {},
   "outputs": [],
   "source": [
    "library(future)\n",
    "library(Longcellsrc)\n",
    "library(LongcellPre)"
   ]
  },
  {
   "cell_type": "code",
   "execution_count": null,
   "id": "8c3a2603",
   "metadata": {},
   "outputs": [],
   "source": [
    "work_dir = \"your output directory\"\n",
    "init(work_dir)"
   ]
  },
  {
   "cell_type": "markdown",
   "id": "8629005f",
   "metadata": {},
   "source": [
    "#### build annotation"
   ]
  },
  {
   "cell_type": "markdown",
   "id": "ad322208",
   "metadata": {},
   "source": [
    "The annotation used by LongcellPre can be generated from the isoform annotation in gtf format, for common samples like human and mouse, you can download the gtf reference via gencode: https://www.gencodegenes.org/"
   ]
  },
  {
   "cell_type": "code",
   "execution_count": 13,
   "id": "ffc4a805",
   "metadata": {},
   "outputs": [],
   "source": [
    "gtf_path = \"your gtf path\""
   ]
  },
  {
   "cell_type": "code",
   "execution_count": 14,
   "id": "7601e361",
   "metadata": {},
   "outputs": [
    {
     "name": "stderr",
     "output_type": "stream",
     "text": [
      "Warning message in annotation(gtf_path = gtf_path, work_dir = work_dir, overwrite = FALSE):\n",
      "“The annotation already exists. If you want to overwrite it please set overwrite as TRUE!”\n"
     ]
    }
   ],
   "source": [
    "refer = annotation(gtf_path = gtf_path, work_dir = work_dir ,overwrite = FALSE)"
   ]
  },
  {
   "cell_type": "markdown",
   "id": "b9e69740",
   "metadata": {},
   "source": [
    "The `annotation()` function would generate two tables. The first one record the location for the split non-overlapping exons, and the second one records the location for each exon."
   ]
  },
  {
   "cell_type": "code",
   "execution_count": 15,
   "id": "f193856a",
   "metadata": {},
   "outputs": [],
   "source": [
    "gene_bed = refer[[1]]\n",
    "exon_gtf = refer[[2]]"
   ]
  },
  {
   "cell_type": "markdown",
   "id": "6ad02193",
   "metadata": {},
   "source": [
    "The first table would be used to guide searching the reads for each gene in the bam file, which is necessary. The second one is used as the canonical isoform annotation and is only necessary when you want to map your reads to the canonical isoforms to get the cell by isoform matrix. If this table is not provided, isoform can also be extracted but stored as a string of splicing sites."
   ]
  },
  {
   "cell_type": "markdown",
   "id": "89aa8de6",
   "metadata": {},
   "source": [
    "When there is no gtf file as the isoform anotation for the sample,the `annotation()` function can accept a gene bed file to indicate the location of targeted genes. LongcellPre will search reads for targeted genes based on the bed."
   ]
  },
  {
   "cell_type": "markdown",
   "id": "252b75b5",
   "metadata": {},
   "source": [
    "#### cell barcode match and reads extraction"
   ]
  },
  {
   "cell_type": "markdown",
   "id": "1558792c",
   "metadata": {},
   "source": [
    "This part can be achieve by the function `reads_extract_bc()`. This function contains three main steps:\n",
    "\n",
    "(1) Trim the adapter sequence and identify the cell barcode and UMI for each read.\n",
    "\n",
    "(2) Map the trimmed fastq file to the reference genome to get the bam file. Common reference genome can be downloaded from https://www.10xgenomics.com/cn/support/software/cell-ranger/downloads\n",
    "\n",
    "(3) Extract the isoform information for each read. The read extraction would be guided from the `gene_bed` annotation output from `annotation`. The necessary information in the `gene_bed` here is the location of the gene and also its strand information. If you are only interested in serveral target genes, you could filter out other genes in the `gene_bed`, then reads aligned to other genes won't be searched."
   ]
  },
  {
   "cell_type": "code",
   "execution_count": null,
   "id": "526ef313",
   "metadata": {},
   "outputs": [],
   "source": [
    "fastq = \"path of your input fastq or fq.gz\"\n",
    "barcodes = \"path of your input cell barcode whitelist\"\n",
    "genome_path = \"path of your genome annotation\"\n",
    "minimap_bed_path = \"path of your bed annotation for minimap2, can be generated from gtf\"\n",
    "genome_name = \"the genome name used for mapping, ex. hg38\"\n",
    "toolkit = your 10X sequencing toolkit\n",
    "work_dir = \"The output directory\"\n",
    "\n",
    "# specify the path for those tools\n",
    "samtools = \"samtools\"\n",
    "minimap2 = \"minimap2\"\n",
    "bedtools = \"bedtools\""
   ]
  },
  {
   "cell_type": "code",
   "execution_count": null,
   "id": "90481980",
   "metadata": {},
   "outputs": [],
   "source": [
    "plan(strategy = \"multicore\",workers = 4)\n",
    "reads_bc = reads_extract_bc(fastq_path = fastq,barcode_path = barcodes,gene_bed= gene_bed,\n",
    "                           adapter = NULL,genome_path = genome_path,genome_name = genome_name,\n",
    "                           toolkit = toolkit, minimap_bed_path  = minimap_bed_path, work_dir = work_dir,\n",
    "                           minimap2 = minimap2, samtools = samtools, bedtools = bedtools)\n",
    "bc = reads_bc[[1]]\n",
    "qual = reads_bc[[2]]"
   ]
  },
  {
   "cell_type": "markdown",
   "id": "13c4eda0",
   "metadata": {},
   "source": [
    "This function will return two dataframes, the first one record the cell barcode, UMI, isoform and polyA existence information for each read, while the second one records the distribution of Needleman score between the adapter aside the confidently identified cell barcode (edit distance = 0) and its original sequence. The second table is used to evaluate the data quality and be the guidance to help filter scattered UMI clusters in the UMI deduplication step."
   ]
  },
  {
   "cell_type": "markdown",
   "id": "5c8af381",
   "metadata": {},
   "source": [
    "Those returns would also be saved into files along with the bam file in the output directory."
   ]
  },
  {
   "cell_type": "markdown",
   "id": "1747b498",
   "metadata": {},
   "source": [
    "#### UMI deduplication and isoform correction"
   ]
  },
  {
   "cell_type": "markdown",
   "id": "c9479ea8",
   "metadata": {},
   "source": [
    "This part can be achieve by the function `umi_count_corres()`. This function contains three main steps:\n",
    "\n",
    "(1) Cluster reads with the same or similar UMI for each cell into group.\n",
    "\n",
    "(2) Correct the wrong mapping and trunction for each UMI cluster to get polished isoform representation\n",
    "\n",
    "(3) If given the canonical isoform annotation (the `exon_gtf` from the annotation step),this function would try to map each read to a canonical isoform and build a cell-by-isoform matrix."
   ]
  },
  {
   "cell_type": "code",
   "execution_count": null,
   "id": "de70e0e8",
   "metadata": {},
   "outputs": [],
   "source": [
    "plan(strategy = \"multicore\",workers = 4)\n",
    "umi_count_corres(data = bc,qual = qual,gene_bed = gene_bed,gtf = exon_gtf)"
   ]
  },
  {
   "cell_type": "markdown",
   "id": "7b13bff3",
   "metadata": {},
   "source": [
    "This function has no returns but it would output the single cell isoform quantification into the output folder."
   ]
  },
  {
   "cell_type": "code",
   "execution_count": null,
   "id": "edbf38e6",
   "metadata": {},
   "outputs": [],
   "source": []
  }
 ],
 "metadata": {
  "kernelspec": {
   "display_name": "R 4.1",
   "language": "R",
   "name": "ir41"
  },
  "language_info": {
   "codemirror_mode": "r",
   "file_extension": ".r",
   "mimetype": "text/x-r-source",
   "name": "R",
   "pygments_lexer": "r",
   "version": "4.1.3"
  },
  "toc": {
   "base_numbering": 1,
   "nav_menu": {},
   "number_sections": true,
   "sideBar": true,
   "skip_h1_title": false,
   "title_cell": "Table of Contents",
   "title_sidebar": "Contents",
   "toc_cell": false,
   "toc_position": {},
   "toc_section_display": true,
   "toc_window_display": false
  }
 },
 "nbformat": 4,
 "nbformat_minor": 5
}
